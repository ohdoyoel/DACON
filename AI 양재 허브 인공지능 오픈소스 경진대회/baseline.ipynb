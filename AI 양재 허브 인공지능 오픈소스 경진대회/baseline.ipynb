{
 "cells": [
  {
   "cell_type": "markdown",
   "metadata": {},
   "source": [
    "# AI 양재 허브 인공지능 오픈소스 경진대회 BASELINE CODE"
   ]
  },
  {
   "cell_type": "markdown",
   "metadata": {},
   "source": [
    "## 1. Import"
   ]
  },
  {
   "cell_type": "code",
   "execution_count": 1,
   "metadata": {},
   "outputs": [],
   "source": [
    "import random\n",
    "import pandas as pd\n",
    "import numpy as np\n",
    "import os\n",
    "import cv2\n",
    "import zipfile\n",
    "import math\n",
    "\n",
    "import torch\n",
    "import torch.nn as nn\n",
    "import torch.optim as optim\n",
    "import torch.nn.functional as F\n",
    "from torch.utils.data import Dataset, DataLoader\n",
    "\n",
    "from tqdm.auto import tqdm\n",
    "\n",
    "import albumentations as A\n",
    "from albumentations.pytorch.transforms import ToTensorV2\n",
    "\n",
    "import torchvision.models as models\n",
    "from torchvision import transforms\n",
    "\n",
    "import warnings\n",
    "warnings.filterwarnings(action='ignore')"
   ]
  },
  {
   "cell_type": "code",
   "execution_count": 2,
   "metadata": {},
   "outputs": [
    {
     "name": "stdout",
     "output_type": "stream",
     "text": [
      "False\n"
     ]
    }
   ],
   "source": [
    "device = torch.device('cuda') if torch.cuda.is_available() else torch.device('cpu')\n",
    "print(torch.cuda.is_available())"
   ]
  },
  {
   "cell_type": "markdown",
   "metadata": {},
   "source": [
    "## 2. Hyperparameter Setting"
   ]
  },
  {
   "cell_type": "code",
   "execution_count": 3,
   "metadata": {},
   "outputs": [],
   "source": [
    "CFG = {\n",
    "    'IMG_SIZE':2048,\n",
    "    'EPOCHS':30,\n",
    "    'LEARNING_RATE':1e-4,\n",
    "    'BATCH_SIZE':12,\n",
    "    'SEED':41\n",
    "}"
   ]
  },
  {
   "cell_type": "markdown",
   "metadata": {},
   "source": [
    "## 3. Fixed RandomSeed"
   ]
  },
  {
   "cell_type": "code",
   "execution_count": 4,
   "metadata": {},
   "outputs": [],
   "source": [
    "def seed_everything(seed):\n",
    "    random.seed(seed)\n",
    "    os.environ['PYTHONHASHSEED'] = str(seed)\n",
    "    np.random.seed(seed)\n",
    "    torch.manual_seed(seed)\n",
    "    torch.cuda.manual_seed(seed)\n",
    "    torch.backends.cudnn.deterministic = True\n",
    "    torch.backends.cudnn.benchmark = True\n",
    "\n",
    "seed_everything(CFG['SEED']) # Seed 고정"
   ]
  },
  {
   "cell_type": "markdown",
   "metadata": {},
   "source": [
    "## 4. Data Load"
   ]
  },
  {
   "cell_type": "code",
   "execution_count": 5,
   "metadata": {},
   "outputs": [],
   "source": [
    "train_df = pd.read_csv('./train.csv')\n",
    "test_df = pd.read_csv('./test.csv')"
   ]
  },
  {
   "cell_type": "markdown",
   "metadata": {},
   "source": [
    "## 5. CustomDataset"
   ]
  },
  {
   "cell_type": "code",
   "execution_count": 6,
   "metadata": {},
   "outputs": [],
   "source": [
    "class CustomDataset(Dataset):\n",
    "    def __init__(self, df, transforms, train_mode):\n",
    "        self.df = df\n",
    "        self.transforms = transforms\n",
    "        self.train_mode = train_mode\n",
    "\n",
    "    def __getitem__(self, index):\n",
    "        lr_path = self.df['LR'].iloc[index]\n",
    "        lr_img = cv2.imread(lr_path)\n",
    "        lr_img = cv2.resize(lr_img, (CFG['IMG_SIZE'], CFG['IMG_SIZE']), interpolation=cv2.INTER_CUBIC)\n",
    "        if self.train_mode:\n",
    "            hr_path = self.df['HR'].iloc[index]\n",
    "            hr_img = cv2.imread(hr_path)\n",
    "            if transforms is not None:\n",
    "                transformed = self.transforms(image=lr_img, label=hr_img)\n",
    "                lr_img = transformed['image'] / 255.\n",
    "                hr_img = transformed['label'] / 255.\n",
    "            return lr_img, hr_img\n",
    "        else:\n",
    "            file_name = lr_path.split('/')[-1]\n",
    "            if transforms is not None:\n",
    "                transformed = self.transforms(image=lr_img)\n",
    "                lr_img = transformed['image'] / 255.\n",
    "            return lr_img, file_name\n",
    "        \n",
    "    def __len__(self):\n",
    "        return len(self.df)"
   ]
  },
  {
   "cell_type": "code",
   "execution_count": 7,
   "metadata": {},
   "outputs": [],
   "source": [
    "def get_train_transform():\n",
    "    return A.Compose([\n",
    "        ToTensorV2(p=1.0)],\n",
    "        additional_targets={'image': 'image', 'label': 'image'}\n",
    "    )\n",
    "\n",
    "def get_test_transform():\n",
    "    return A.Compose([\n",
    "        ToTensorV2(p=1.0)],\n",
    "        additional_targets={'image': 'image', 'label': 'image'}\n",
    "    )"
   ]
  },
  {
   "cell_type": "code",
   "execution_count": 8,
   "metadata": {},
   "outputs": [],
   "source": [
    "train_dataset = CustomDataset(train_df, get_train_transform(), True)\n",
    "train_loader = DataLoader(train_dataset, batch_size = CFG['BATCH_SIZE'], shuffle=True, num_workers=6)\n",
    "\n",
    "test_dataset = CustomDataset(test_df, get_test_transform(), False)\n",
    "test_loader = DataLoader(test_dataset, batch_size = CFG['BATCH_SIZE'], shuffle=False, num_workers=6)"
   ]
  },
  {
   "cell_type": "markdown",
   "metadata": {},
   "source": [
    "## 6. Model Define"
   ]
  },
  {
   "cell_type": "code",
   "execution_count": 9,
   "metadata": {},
   "outputs": [],
   "source": [
    "class SRCNN(nn.Module):\n",
    "    def __init__(self, num_channels=3, feature_dim=64, map_dim=32):\n",
    "        super(SRCNN, self).__init__()\n",
    "        # Feature extraction layer.\n",
    "        self.features = nn.Sequential(\n",
    "            nn.Conv2d(num_channels, feature_dim, (9, 9), (1, 1), (4, 4)),\n",
    "            nn.ReLU(True)\n",
    "        )\n",
    "        # Non-linear mapping layer.\n",
    "        self.map = nn.Sequential(\n",
    "            nn.Conv2d(feature_dim, map_dim, (5, 5), (1, 1), (2, 2)),\n",
    "            nn.ReLU(True)\n",
    "        )\n",
    "        # Rebuild the layer.\n",
    "        self.reconstruction = nn.Conv2d(map_dim, num_channels, (5, 5), (1, 1), (2, 2))\n",
    "        # Initialize model weights.\n",
    "        self._initialize_weights()\n",
    "\n",
    "    def forward(self, x):\n",
    "        out = self.features(x)\n",
    "        out = self.map(out)\n",
    "        out = self.reconstruction(out)\n",
    "        return out\n",
    "\n",
    "    # The filter weight of each layer is a Gaussian distribution with zero mean and\n",
    "    # standard deviation initialized by random extraction 0.001 (deviation is 0)\n",
    "    def _initialize_weights(self) -> None:\n",
    "        for module in self.modules():\n",
    "            if isinstance(module, nn.Conv2d):\n",
    "                nn.init.normal_(module.weight.data, 0.0, math.sqrt(2 / (module.out_channels * module.weight.data[0][0].numel())))\n",
    "                nn.init.zeros_(module.bias.data)\n",
    "        nn.init.normal_(self.reconstruction.weight.data, 0.0, 0.001)\n",
    "        nn.init.zeros_(self.reconstruction.bias.data)"
   ]
  },
  {
   "cell_type": "markdown",
   "metadata": {},
   "source": [
    "## 7. Train"
   ]
  },
  {
   "cell_type": "code",
   "execution_count": 10,
   "metadata": {},
   "outputs": [],
   "source": [
    "def train(model, optimizer, train_loader, scheduler, device):\n",
    "    model.to(device)\n",
    "    criterion = nn.MSELoss().to(device)\n",
    "    best_model = None\n",
    "    best_loss = 9999\n",
    "    for epoch in range(1, CFG['EPOCHS']+1):\n",
    "        model.train()\n",
    "        train_loss = []\n",
    "        for lr_img, hr_img in tqdm(iter(train_loader)):\n",
    "            lr_img, hr_img = lr_img.float().to(device), hr_img.float().to(device)\n",
    "            \n",
    "            optimizer.zero_grad()\n",
    "            \n",
    "            pred_hr_img = model(lr_img)\n",
    "            loss = criterion(pred_hr_img, hr_img)\n",
    "            \n",
    "            loss.backward()\n",
    "            optimizer.step()\n",
    "            \n",
    "            train_loss.append(loss.item())\n",
    "                    \n",
    "        if scheduler is not None:\n",
    "            scheduler.step()\n",
    "        \n",
    "        _train_loss = np.mean(train_loss)\n",
    "        print(f'Epoch : [{epoch}] Train Loss : [{_train_loss:.5f}]')\n",
    "         \n",
    "        if best_loss > _train_loss:\n",
    "            best_loss = _train_loss\n",
    "            best_model = model\n",
    "            \n",
    "    return best_model"
   ]
  },
  {
   "cell_type": "markdown",
   "metadata": {},
   "source": [
    "## 8. Run"
   ]
  },
  {
   "cell_type": "code",
   "execution_count": 1,
   "metadata": {},
   "outputs": [
    {
     "ename": "NameError",
     "evalue": "name 'nn' is not defined",
     "output_type": "error",
     "traceback": [
      "\u001b[1;31m---------------------------------------------------------------------------\u001b[0m",
      "\u001b[1;31mNameError\u001b[0m                                 Traceback (most recent call last)",
      "\u001b[1;32mc:\\Users\\ohdoy\\workspace\\DACON\\AI 양재 허브 인공지능 오픈소스 경진대회\\baseline.ipynb 셀 20\u001b[0m in \u001b[0;36m<cell line: 1>\u001b[1;34m()\u001b[0m\n\u001b[1;32m----> <a href='vscode-notebook-cell:/c%3A/Users/ohdoy/workspace/DACON/AI%20%EC%96%91%EC%9E%AC%20%ED%97%88%EB%B8%8C%20%EC%9D%B8%EA%B3%B5%EC%A7%80%EB%8A%A5%20%EC%98%A4%ED%94%88%EC%86%8C%EC%8A%A4%20%EA%B2%BD%EC%A7%84%EB%8C%80%ED%9A%8C/baseline.ipynb#X25sZmlsZQ%3D%3D?line=0'>1</a>\u001b[0m model \u001b[39m=\u001b[39m nn\u001b[39m.\u001b[39mDistributedDataParallel(SRCNN())\n\u001b[0;32m      <a href='vscode-notebook-cell:/c%3A/Users/ohdoy/workspace/DACON/AI%20%EC%96%91%EC%9E%AC%20%ED%97%88%EB%B8%8C%20%EC%9D%B8%EA%B3%B5%EC%A7%80%EB%8A%A5%20%EC%98%A4%ED%94%88%EC%86%8C%EC%8A%A4%20%EA%B2%BD%EC%A7%84%EB%8C%80%ED%9A%8C/baseline.ipynb#X25sZmlsZQ%3D%3D?line=1'>2</a>\u001b[0m model\u001b[39m.\u001b[39meval()\n\u001b[0;32m      <a href='vscode-notebook-cell:/c%3A/Users/ohdoy/workspace/DACON/AI%20%EC%96%91%EC%9E%AC%20%ED%97%88%EB%B8%8C%20%EC%9D%B8%EA%B3%B5%EC%A7%80%EB%8A%A5%20%EC%98%A4%ED%94%88%EC%86%8C%EC%8A%A4%20%EA%B2%BD%EC%A7%84%EB%8C%80%ED%9A%8C/baseline.ipynb#X25sZmlsZQ%3D%3D?line=3'>4</a>\u001b[0m optimizer \u001b[39m=\u001b[39m torch\u001b[39m.\u001b[39moptim\u001b[39m.\u001b[39mAdam(params \u001b[39m=\u001b[39m model\u001b[39m.\u001b[39mparameters(), lr \u001b[39m=\u001b[39m CFG[\u001b[39m\"\u001b[39m\u001b[39mLEARNING_RATE\u001b[39m\u001b[39m\"\u001b[39m])\n",
      "\u001b[1;31mNameError\u001b[0m: name 'nn' is not defined"
     ]
    }
   ],
   "source": [
    "model = nn.DistributedDataParallel(SRCNN())\n",
    "model.eval()\n",
    "\n",
    "optimizer = torch.optim.Adam(params = model.parameters(), lr = CFG[\"LEARNING_RATE\"])\n",
    "scheduler = torch.optim.lr_scheduler.StepLR(optimizer, step_size=5, gamma=0.5)\n",
    "\n",
    "infer_model = train(model, optimizer, train_loader, scheduler, device)"
   ]
  },
  {
   "cell_type": "markdown",
   "metadata": {},
   "source": [
    "## 9. Inference"
   ]
  },
  {
   "cell_type": "code",
   "execution_count": null,
   "metadata": {},
   "outputs": [],
   "source": [
    "def inference(model, test_loader, device):\n",
    "    infer_model.to(device)\n",
    "    model.eval()\n",
    "    pred_img_list = []\n",
    "    name_list = []\n",
    "    with torch.no_grad():\n",
    "        for lr_img, file_name in tqdm(iter(test_loader)):\n",
    "            lr_img = lr_img.float().to(device)\n",
    "            \n",
    "            pred_hr_img = model(lr_img)\n",
    "            \n",
    "            for pred, name in zip(pred_hr_img, file_name):\n",
    "                pred = pred.cpu().clone().detach().numpy()\n",
    "                pred = pred.transpose(1, 2, 0)\n",
    "                pred = pred*255.\n",
    "                \n",
    "                pred_img_list.append(pred.astype('uint8'))\n",
    "                name_list.append(name)\n",
    "    return pred_img_list, name_list"
   ]
  },
  {
   "cell_type": "code",
   "execution_count": null,
   "metadata": {},
   "outputs": [],
   "source": [
    "pred_img_list, pred_name_list = inference(infer_model, test_loader, device)"
   ]
  },
  {
   "cell_type": "markdown",
   "metadata": {},
   "source": [
    "## 10. Submission"
   ]
  },
  {
   "cell_type": "code",
   "execution_count": null,
   "metadata": {},
   "outputs": [],
   "source": [
    "os.makedirs('./submission', exist_ok=True)\n",
    "os.chdir(\"./submission/\")\n",
    "sub_imgs = []\n",
    "for path, pred_img in tqdm(zip(pred_name_list, pred_img_list)):\n",
    "    cv2.imwrite(path, pred_img)\n",
    "    sub_imgs.append(path)\n",
    "submission = zipfile.ZipFile(\"../submission.zip\", 'w')\n",
    "for path in sub_imgs:\n",
    "    submission.write(path)\n",
    "submission.close()\n",
    "print('Done.')"
   ]
  }
 ],
 "metadata": {
  "kernelspec": {
   "display_name": "Python 3.8.13 ('final')",
   "language": "python",
   "name": "python3"
  },
  "language_info": {
   "codemirror_mode": {
    "name": "ipython",
    "version": 3
   },
   "file_extension": ".py",
   "mimetype": "text/x-python",
   "name": "python",
   "nbconvert_exporter": "python",
   "pygments_lexer": "ipython3",
   "version": "3.8.13"
  },
  "orig_nbformat": 4,
  "vscode": {
   "interpreter": {
    "hash": "76f10e3aac918d1524f820019c4fbe79a3f8ec1d85623a1de1289b1132753d98"
   }
  }
 },
 "nbformat": 4,
 "nbformat_minor": 2
}
